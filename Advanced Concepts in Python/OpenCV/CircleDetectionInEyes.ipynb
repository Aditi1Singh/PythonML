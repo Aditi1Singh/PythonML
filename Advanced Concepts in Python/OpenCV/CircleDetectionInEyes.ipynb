{
 "cells": [
  {
   "cell_type": "code",
   "execution_count": 1,
   "metadata": {
    "scrolled": true
   },
   "outputs": [],
   "source": [
    "#Eye-Detection\n",
    "\n",
    "import cv2\n",
    "import numpy as np\n",
    "\n",
    "img = cv2.imread('eye.jpg',0)\n",
    "img = cv2.medianBlur(img,21)\n",
    "cimg = cv2.cvtColor(img,cv2.COLOR_GRAY2BGR)\n",
    "cv2.imshow('original',img)\n",
    "\n",
    "circles1 = cv2.HoughCircles(img,cv2.HOUGH_GRADIENT,1,10,\n",
    "                            param1=50,param2=70,minRadius=0,maxRadius=0)\n",
    "circles2 = cv2.HoughCircles(img,cv2.HOUGH_GRADIENT,1,10,\n",
    "                            param1=70,param2=70,minRadius=0,maxRadius=0)\n",
    "if circles1 is not None:\n",
    "\tcircles1 = np.uint16(np.around(circles1))\n",
    "\tfor i in circles1[0,:]:\n",
    "\t    # draw the outer circle\n",
    "\t    cv2.circle(cimg,(i[0],i[1]),i[2],(0,255,0),2)\n",
    "\t    # draw the center of the circle\n",
    "\t    cv2.circle(cimg,(i[0],i[1]),2,(0,0,255),3)\n",
    "\n",
    "if circles2 is not None:\n",
    "\tcircles2 = np.uint16(np.around(circles2))\n",
    "\tfor i in circles2[0,:]:\n",
    "\t    # draw the outer circle\n",
    "\t    cv2.circle(cimg,(i[0],i[1]),i[2],(0,255,0),2)\n",
    "\t    # draw the center of the circle\n",
    "\t    cv2.circle(cimg,(i[0],i[1]),2,(0,0,255),3)\n",
    "\n",
    "cv2.imshow('detected circles',cimg)\n",
    "cv2.waitKey(0)\n",
    "cv2.destroyAllWindows()"
   ]
  },
  {
   "cell_type": "code",
   "execution_count": null,
   "metadata": {},
   "outputs": [],
   "source": []
  }
 ],
 "metadata": {
  "kernelspec": {
   "display_name": "Python 2",
   "language": "python",
   "name": "python2"
  },
  "language_info": {
   "codemirror_mode": {
    "name": "ipython",
    "version": 2
   },
   "file_extension": ".py",
   "mimetype": "text/x-python",
   "name": "python",
   "nbconvert_exporter": "python",
   "pygments_lexer": "ipython2",
   "version": "2.7.15"
  }
 },
 "nbformat": 4,
 "nbformat_minor": 2
}
