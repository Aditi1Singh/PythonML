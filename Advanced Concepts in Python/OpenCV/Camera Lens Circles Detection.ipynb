{
 "cells": [
  {
   "cell_type": "code",
   "execution_count": null,
   "metadata": {},
   "outputs": [],
   "source": [
    "#Deciding the Optimum parameter\n",
    "import cv2\n",
    "import numpy as np\n",
    "\n",
    "img = cv2.imread('C:\\Users\\ADMIN\\ML-Courses\\camera-lens.jpg',0)\n",
    "bimg = cv2.medianBlur(img,1)\n",
    "cimg = cv2.cvtColor(bimg,cv2.COLOR_GRAY2BGR)\n",
    "\n",
    "cent=[]\n",
    "list1=[]\n",
    "c1=[]\n",
    "\n",
    "\n",
    "for c in range(150,252,1):\n",
    "    circles = cv2.HoughCircles(bimg,cv2.HOUGH_GRADIENT,1,1,\n",
    "                            param1=25,param2=c,minRadius=0,maxRadius=0)\n",
    "\n",
    "    count = 0\n",
    "    if circles is not None:\n",
    "        circles = np.uint16(np.around(circles))\n",
    "        dist=0\n",
    "        for i in circles[0,:]:\n",
    "            # draw the outer circle\n",
    "            cv2.circle(cimg,(i[0],i[1]),i[2],(0,255,0),2)\n",
    "            dist+=(((i[0]-150)**2+(i[1]-160)**2)**0.5)      #150 and 160 are coordinates of the center of all the circles\n",
    "            # draw the center of the circle\n",
    "            cv2.circle(cimg,(i[0],i[1]),2,(0,0,255),2)\n",
    "            count = count + 1\n",
    "        cent.append(dist)\n",
    "        c1.append(count)\n",
    "        list1.append(c)\n",
    "\n",
    "plt.subplot(1, 2, 1)\n",
    "plt.plot(list1,c1)\n",
    "plt.xlabel('Param2')\n",
    "plt.ylabel('Count')\n",
    "\n",
    "\n",
    "plt.subplot(1, 2, 2)\n",
    "plt.plot(c1,cent)\n",
    "plt.xlabel('Count')\n",
    "plt.ylabel('Distance between Centers')\n",
    "\n",
    "plt.tight_layout()\n",
    "plt.show()\n"
   ]
  },
  {
   "cell_type": "code",
   "execution_count": 1,
   "metadata": {},
   "outputs": [
    {
     "name": "stdout",
     "output_type": "stream",
     "text": [
      "Circles = 14\n"
     ]
    }
   ],
   "source": [
    "#Program with the best Parameters\n",
    "\n",
    "import cv2\n",
    "import numpy as np\n",
    "\n",
    "img = cv2.imread('camera-lens.jpg',0)\n",
    "bimg = cv2.medianBlur(img,1)\n",
    "cimg = cv2.cvtColor(bimg,cv2.COLOR_GRAY2BGR)\n",
    "\n",
    "\n",
    "\n",
    "\n",
    "circles = cv2.HoughCircles(bimg,cv2.HOUGH_GRADIENT,1,1,\n",
    "                            param1=25,param2=160,minRadius=0,maxRadius=0)\n",
    "\n",
    "count = 0\n",
    "if circles is not None:\n",
    "    circles = np.uint16(np.around(circles))\n",
    "    for i in circles[0,:]:\n",
    "        # draw the outer circle\n",
    "        cv2.circle(cimg,(i[0],i[1]),i[2],(0,255,0),2)\n",
    "        # draw the center of the circle\n",
    "        cv2.circle(cimg,(i[0],i[1]),2,(0,0,255),2)\n",
    "        count = count + 1\n",
    "print('Circles = {}'.format(count))\n",
    "cv2.imshow('detected circles',cimg)\n",
    "cv2.waitKey(0)\n",
    "cv2.destroyAllWindows()"
   ]
  },
  {
   "cell_type": "code",
   "execution_count": null,
   "metadata": {},
   "outputs": [],
   "source": []
  }
 ],
 "metadata": {
  "kernelspec": {
   "display_name": "Python 2",
   "language": "python",
   "name": "python2"
  },
  "language_info": {
   "codemirror_mode": {
    "name": "ipython",
    "version": 2
   },
   "file_extension": ".py",
   "mimetype": "text/x-python",
   "name": "python",
   "nbconvert_exporter": "python",
   "pygments_lexer": "ipython2",
   "version": "2.7.15"
  }
 },
 "nbformat": 4,
 "nbformat_minor": 2
}
