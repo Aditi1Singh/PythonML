{
 "cells": [
  {
   "cell_type": "code",
   "execution_count": null,
   "metadata": {},
   "outputs": [],
   "source": [
    "import numpy as np\n",
    "import cv2\n",
    "\n",
    "img = cv2.imread(\"faces_crowd.jpg\",1)\n",
    "gray=cv2.cvtColor(img, cv2.COLOR_BGR2GRAY)\n",
    "path_front= \"haarcascade_frontalface_default.xml\"\n",
    "\n",
    "face_cascade_front= cv2.CascadeClassifier(path_front)\n",
    "faces_front= face_cascade_front.detectMultiScale(gray, 1.001, 10, minSize=(10,10),maxSize=(100,100))\n",
    "print(len(faces_front))\n",
    "\n",
    "for x,y,w,h in faces_front:\n",
    "    xc=(x+ x+w)/2\n",
    "    yc=(y+ y+h)/2\n",
    "    radius= w/2\n",
    "    cv2.circle(img, (int(xc), int(yc)), int(radius), (255,0,0), 2)\n",
    "    \n",
    "cv2.imshow(\"Faces\", img)\n",
    "\n",
    "cv2.waitKey(0)"
   ]
  },
  {
   "cell_type": "code",
   "execution_count": null,
   "metadata": {},
   "outputs": [],
   "source": []
  }
 ],
 "metadata": {
  "kernelspec": {
   "display_name": "Python 2",
   "language": "python",
   "name": "python2"
  },
  "language_info": {
   "codemirror_mode": {
    "name": "ipython",
    "version": 2
   },
   "file_extension": ".py",
   "mimetype": "text/x-python",
   "name": "python",
   "nbconvert_exporter": "python",
   "pygments_lexer": "ipython2",
   "version": "2.7.15"
  }
 },
 "nbformat": 4,
 "nbformat_minor": 2
}
