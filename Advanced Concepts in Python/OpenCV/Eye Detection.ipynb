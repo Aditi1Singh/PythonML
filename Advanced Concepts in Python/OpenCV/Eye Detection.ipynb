{
 "cells": [
  {
   "cell_type": "code",
   "execution_count": 11,
   "metadata": {},
   "outputs": [
    {
     "name": "stdout",
     "output_type": "stream",
     "text": [
      "3\n"
     ]
    },
    {
     "data": {
      "text/plain": [
       "-1"
      ]
     },
     "execution_count": 11,
     "metadata": {},
     "output_type": "execute_result"
    }
   ],
   "source": [
    "import numpy as np\n",
    "import cv2\n",
    "\n",
    "img = cv2.imread(\"faces_crowd.jpg\",1)\n",
    "gray=cv2.cvtColor(img, cv2.COLOR_BGR2GRAY)\n",
    "path= \"haarcascade_eye.xml\"\n",
    "\n",
    "eye_cascade= cv2.CascadeClassifier(path)\n",
    "eyes= eye_cascade.detectMultiScale(gray, 1.001,4, minSize=(5,5), maxSize=(20,20))\n",
    "print(len(eyes))\n",
    "\n",
    "for x,y,w,h in eyes:\n",
    "    xc=(x+ x+w)/2\n",
    "    yc=(y+ y+h)/2\n",
    "    radius= w/2\n",
    "    cv2.circle(img, (int(xc), int(yc)), int(radius), (255,0,0), 2)\n",
    "\n",
    "cv2.imshow(\"Eyes\", img)\n",
    "\n",
    "cv2.waitKey(0)"
   ]
  },
  {
   "cell_type": "code",
   "execution_count": null,
   "metadata": {},
   "outputs": [],
   "source": []
  }
 ],
 "metadata": {
  "kernelspec": {
   "display_name": "Python 2",
   "language": "python",
   "name": "python2"
  },
  "language_info": {
   "codemirror_mode": {
    "name": "ipython",
    "version": 2
   },
   "file_extension": ".py",
   "mimetype": "text/x-python",
   "name": "python",
   "nbconvert_exporter": "python",
   "pygments_lexer": "ipython2",
   "version": "2.7.15"
  }
 },
 "nbformat": 4,
 "nbformat_minor": 2
}
