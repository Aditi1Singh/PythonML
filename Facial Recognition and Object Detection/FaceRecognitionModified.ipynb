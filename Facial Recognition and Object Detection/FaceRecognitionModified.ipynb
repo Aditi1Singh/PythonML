{
 "cells": [
  {
   "cell_type": "code",
   "execution_count": 2,
   "metadata": {},
   "outputs": [],
   "source": [
    "import face_recognition"
   ]
  },
  {
   "cell_type": "code",
   "execution_count": 3,
   "metadata": {},
   "outputs": [],
   "source": [
    "from PIL import Image, ImageDraw"
   ]
  },
  {
   "cell_type": "code",
   "execution_count": 8,
   "metadata": {},
   "outputs": [],
   "source": [
    "\n",
    "image1 = face_recognition.load_image_file(\"1.jpg\")\n",
    "image2= face_recognition.load_image_file(\"2.jpg\")\n",
    "\n",
    "\n",
    "image1_encoding = face_recognition.face_encodings(image1)[0]\n",
    "image2_encoding = face_recognition.face_encodings(image2)[0]\n",
    "\n",
    "known_faces = [\n",
    "    image1_encoding,image2_encoding\n",
    "    ]\n",
    "\n",
    "known_face_names = [\n",
    "    \"Name1\",\"Name2\"\n",
    "]\n",
    "unknown_image = face_recognition.load_image_file(\"pic.jpg\")\n",
    "face_locations = face_recognition.face_locations(unknown_image)\n",
    "face_encodings = face_recognition.face_encodings(unknown_image, face_locations)\n",
    "pil_image = Image.fromarray(unknown_image)\n",
    "draw = ImageDraw.Draw(pil_image)\n",
    "for (top, right, bottom, left), face_encoding in zip(face_locations, face_encodings):\n",
    "    # See if the face is a match for the known face(s)\n",
    "    list_of_distances=face_recognition.api.face_distance(known_faces, face_encoding)\n",
    "    tolerance=0.5\n",
    "    min_dist=min(list_of_distances)\n",
    "    if min_dist<=tolerance:\n",
    "        ind=np.argmin(list_of_distances)\n",
    "        name = known_face_names[ind]\n",
    "    else:\n",
    "        name = \"Unknown\"\n",
    "    \n",
    "    # Draw a box around the face using the Pillow module\n",
    "    draw.rectangle(((left, top), (right, bottom)), outline=(0, 0, 255))\n",
    "\n",
    "    # Draw a label with a name below the face\n",
    "    text_width, text_height = draw.textsize(name)\n",
    "    draw.rectangle(((left, bottom - text_height - 10), (right, bottom)), fill=(0, 0, 255), outline=(0, 0, 255))\n",
    "    draw.text((left + 6, bottom - text_height - 5), name, fill=(255, 255, 255, 255))\n",
    "del draw\n",
    "\n",
    "pil_image.show()\n",
    "#Save the new pic\n",
    "pil_image.save(\"pic_identified.jpg\")"
   ]
  },
  {
   "cell_type": "code",
   "execution_count": null,
   "metadata": {},
   "outputs": [],
   "source": []
  }
 ],
 "metadata": {
  "kernelspec": {
   "display_name": "Python 2",
   "language": "python",
   "name": "python2"
  },
  "language_info": {
   "codemirror_mode": {
    "name": "ipython",
    "version": 2
   },
   "file_extension": ".py",
   "mimetype": "text/x-python",
   "name": "python",
   "nbconvert_exporter": "python",
   "pygments_lexer": "ipython2",
   "version": "2.7.15"
  }
 },
 "nbformat": 4,
 "nbformat_minor": 2
}
